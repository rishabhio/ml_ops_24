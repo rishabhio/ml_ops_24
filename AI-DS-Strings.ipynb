{
 "cells": [
  {
   "cell_type": "code",
   "execution_count": 1,
   "id": "3d8a6eb6-8308-4c2f-bff0-f1d6c387579b",
   "metadata": {},
   "outputs": [],
   "source": [
    "kwargs = {'a': 1, 'b': 2, 'c': 3}"
   ]
  },
  {
   "cell_type": "code",
   "execution_count": 6,
   "id": "1723c378-4b08-4b50-9756-45364d9cf8c2",
   "metadata": {},
   "outputs": [
    {
     "ename": "SyntaxError",
     "evalue": "invalid syntax (2185155896.py, line 1)",
     "output_type": "error",
     "traceback": [
      "\u001b[0;36m  Cell \u001b[0;32mIn[6], line 1\u001b[0;36m\u001b[0m\n\u001b[0;31m    [ a, b, c ] = **kwargs\u001b[0m\n\u001b[0m                  ^\u001b[0m\n\u001b[0;31mSyntaxError\u001b[0m\u001b[0;31m:\u001b[0m invalid syntax\n"
     ]
    }
   ],
   "source": [
    "'a', 'b', 'c' = **kwargs "
   ]
  },
  {
   "cell_type": "code",
   "execution_count": 7,
   "id": "46046438-88af-4e97-881b-5e14ca424c76",
   "metadata": {},
   "outputs": [],
   "source": [
    "def func(a, b, c):\n",
    "    print(a, b, c)\n"
   ]
  },
  {
   "cell_type": "code",
   "execution_count": 8,
   "id": "fa48d51b-6ba5-41a2-bfa5-50b30252363f",
   "metadata": {},
   "outputs": [
    {
     "name": "stdout",
     "output_type": "stream",
     "text": [
      "1 2 3\n"
     ]
    }
   ],
   "source": [
    "func( **kwargs )  "
   ]
  },
  {
   "cell_type": "code",
   "execution_count": 10,
   "id": "2437575a-e898-41c4-adc4-a59375cc4c86",
   "metadata": {},
   "outputs": [],
   "source": [
    "a, b, c = (1, 2, 3, ) "
   ]
  },
  {
   "cell_type": "code",
   "execution_count": 11,
   "id": "2dd91cf2-c61b-4742-9f4f-ea6117a61344",
   "metadata": {},
   "outputs": [
    {
     "name": "stdout",
     "output_type": "stream",
     "text": [
      "1\n"
     ]
    }
   ],
   "source": [
    "print( a ) "
   ]
  },
  {
   "cell_type": "code",
   "execution_count": 13,
   "id": "a5ffcb77-5ccc-4273-b0bc-88bb6dcfb5f0",
   "metadata": {},
   "outputs": [
    {
     "name": "stdout",
     "output_type": "stream",
     "text": [
      "<class 'str'>\n"
     ]
    }
   ],
   "source": [
    "ayc = [1, 2, 3 ]\n",
    "new_ayc = str( ayc ) \n",
    "print( type( new_ayc ) ) \n",
    "# print( str( ayc ) ) "
   ]
  },
  {
   "cell_type": "code",
   "execution_count": 15,
   "id": "4d3f2456-cef7-4e64-bb3e-2e85fcf538db",
   "metadata": {},
   "outputs": [
    {
     "name": "stdout",
     "output_type": "stream",
     "text": [
      "Nagendra\n"
     ]
    }
   ],
   "source": [
    "name = 'Nagendra' \n",
    "print( name )  "
   ]
  },
  {
   "cell_type": "code",
   "execution_count": 16,
   "id": "eb277025-3530-4f5f-a70e-649beb4690b5",
   "metadata": {},
   "outputs": [],
   "source": [
    "bool_dict = {\n",
    "    True: 2, \n",
    "    False: 5\n",
    "}"
   ]
  },
  {
   "cell_type": "code",
   "execution_count": 17,
   "id": "b2c20b5b-861e-4b04-a10e-97a10883460a",
   "metadata": {},
   "outputs": [
    {
     "data": {
      "text/plain": [
       "{True: 2, False: 5}"
      ]
     },
     "execution_count": 17,
     "metadata": {},
     "output_type": "execute_result"
    }
   ],
   "source": [
    "bool_dict"
   ]
  },
  {
   "cell_type": "code",
   "execution_count": 18,
   "id": "775b5d10-735b-4ab7-82d2-e344188c4a2a",
   "metadata": {},
   "outputs": [
    {
     "data": {
      "text/plain": [
       "5"
      ]
     },
     "execution_count": 18,
     "metadata": {},
     "output_type": "execute_result"
    }
   ],
   "source": [
    "bool_dict[False]"
   ]
  },
  {
   "cell_type": "code",
   "execution_count": 19,
   "id": "4c47c23d-f391-4962-9742-ca0df6a0884b",
   "metadata": {},
   "outputs": [
    {
     "data": {
      "text/plain": [
       "5"
      ]
     },
     "execution_count": 19,
     "metadata": {},
     "output_type": "execute_result"
    }
   ],
   "source": [
    "bool_dict[0] "
   ]
  },
  {
   "cell_type": "code",
   "execution_count": 20,
   "id": "e2b8f722-977a-4145-bfd9-29cafe54915c",
   "metadata": {},
   "outputs": [
    {
     "data": {
      "text/plain": [
       "2"
      ]
     },
     "execution_count": 20,
     "metadata": {},
     "output_type": "execute_result"
    }
   ],
   "source": [
    "bool_dict[1] "
   ]
  },
  {
   "cell_type": "code",
   "execution_count": 21,
   "id": "8b857c35-5218-4d85-9df5-2b60409c3859",
   "metadata": {},
   "outputs": [
    {
     "data": {
      "text/plain": [
       "(1,)"
      ]
     },
     "execution_count": 21,
     "metadata": {},
     "output_type": "execute_result"
    }
   ],
   "source": [
    "ab = (1, 2, 1, 1, 1, 11 ) \n",
    "ab[3:4] "
   ]
  },
  {
   "cell_type": "code",
   "execution_count": 22,
   "id": "fa4e7bd4-4bb0-401b-aeee-84250bfcfb89",
   "metadata": {},
   "outputs": [
    {
     "name": "stdout",
     "output_type": "stream",
     "text": [
      "13\n"
     ]
    }
   ],
   "source": [
    "any_char = '             '\n",
    "print( len( any_char  )) "
   ]
  },
  {
   "cell_type": "code",
   "execution_count": 23,
   "id": "5cfbc663-6f7f-4245-86b4-2c0ed9b56553",
   "metadata": {},
   "outputs": [
    {
     "data": {
      "text/plain": [
       "32"
      ]
     },
     "execution_count": 23,
     "metadata": {},
     "output_type": "execute_result"
    }
   ],
   "source": [
    "ord(' ') "
   ]
  },
  {
   "cell_type": "code",
   "execution_count": 24,
   "id": "8d4b8c65-ee29-4b9c-8522-686a1b530ec9",
   "metadata": {},
   "outputs": [
    {
     "data": {
      "text/plain": [
       "' '"
      ]
     },
     "execution_count": 24,
     "metadata": {},
     "output_type": "execute_result"
    }
   ],
   "source": [
    "chr( 32 ) "
   ]
  },
  {
   "cell_type": "code",
   "execution_count": 25,
   "id": "8204320d-7d9f-461e-bdd0-68dfbdf48067",
   "metadata": {},
   "outputs": [],
   "source": [
    "normal = 'abc' \n",
    "encoded = f'{ord(\"a\")}{ord(\"b\")}{ord(\"c\")}'"
   ]
  },
  {
   "cell_type": "code",
   "execution_count": 26,
   "id": "90780840-49a3-46e7-abd5-1bde48456794",
   "metadata": {},
   "outputs": [
    {
     "data": {
      "text/plain": [
       "'979899'"
      ]
     },
     "execution_count": 26,
     "metadata": {},
     "output_type": "execute_result"
    }
   ],
   "source": [
    "encoded"
   ]
  },
  {
   "cell_type": "code",
   "execution_count": 27,
   "id": "0cb32286-86d9-4ea5-a5b3-59af7d9d12ea",
   "metadata": {},
   "outputs": [],
   "source": [
    "var_one = 'abc1zzz' "
   ]
  },
  {
   "cell_type": "code",
   "execution_count": 28,
   "id": "02bfe8d1-0460-411d-85e0-24cf3660a028",
   "metadata": {},
   "outputs": [
    {
     "data": {
      "text/plain": [
       "['__add__',\n",
       " '__class__',\n",
       " '__contains__',\n",
       " '__delattr__',\n",
       " '__dir__',\n",
       " '__doc__',\n",
       " '__eq__',\n",
       " '__format__',\n",
       " '__ge__',\n",
       " '__getattribute__',\n",
       " '__getitem__',\n",
       " '__getnewargs__',\n",
       " '__getstate__',\n",
       " '__gt__',\n",
       " '__hash__',\n",
       " '__init__',\n",
       " '__init_subclass__',\n",
       " '__iter__',\n",
       " '__le__',\n",
       " '__len__',\n",
       " '__lt__',\n",
       " '__mod__',\n",
       " '__mul__',\n",
       " '__ne__',\n",
       " '__new__',\n",
       " '__reduce__',\n",
       " '__reduce_ex__',\n",
       " '__repr__',\n",
       " '__rmod__',\n",
       " '__rmul__',\n",
       " '__setattr__',\n",
       " '__sizeof__',\n",
       " '__str__',\n",
       " '__subclasshook__',\n",
       " 'capitalize',\n",
       " 'casefold',\n",
       " 'center',\n",
       " 'count',\n",
       " 'encode',\n",
       " 'endswith',\n",
       " 'expandtabs',\n",
       " 'find',\n",
       " 'format',\n",
       " 'format_map',\n",
       " 'index',\n",
       " 'isalnum',\n",
       " 'isalpha',\n",
       " 'isascii',\n",
       " 'isdecimal',\n",
       " 'isdigit',\n",
       " 'isidentifier',\n",
       " 'islower',\n",
       " 'isnumeric',\n",
       " 'isprintable',\n",
       " 'isspace',\n",
       " 'istitle',\n",
       " 'isupper',\n",
       " 'join',\n",
       " 'ljust',\n",
       " 'lower',\n",
       " 'lstrip',\n",
       " 'maketrans',\n",
       " 'partition',\n",
       " 'removeprefix',\n",
       " 'removesuffix',\n",
       " 'replace',\n",
       " 'rfind',\n",
       " 'rindex',\n",
       " 'rjust',\n",
       " 'rpartition',\n",
       " 'rsplit',\n",
       " 'rstrip',\n",
       " 'split',\n",
       " 'splitlines',\n",
       " 'startswith',\n",
       " 'strip',\n",
       " 'swapcase',\n",
       " 'title',\n",
       " 'translate',\n",
       " 'upper',\n",
       " 'zfill']"
      ]
     },
     "execution_count": 28,
     "metadata": {},
     "output_type": "execute_result"
    }
   ],
   "source": [
    "dir( var_one ) "
   ]
  },
  {
   "cell_type": "code",
   "execution_count": 31,
   "id": "a6b4d31a-8435-43e0-a91e-4a6a60fdb0ba",
   "metadata": {},
   "outputs": [
    {
     "data": {
      "text/plain": [
       "'ABC12'"
      ]
     },
     "execution_count": 31,
     "metadata": {},
     "output_type": "execute_result"
    }
   ],
   "source": [
    "string = 'abc12'\n",
    "string.swapcase() "
   ]
  },
  {
   "cell_type": "code",
   "execution_count": 34,
   "id": "ca50e5d5-bfe2-48fa-a0aa-58420f96475a",
   "metadata": {},
   "outputs": [
    {
     "name": "stdout",
     "output_type": "stream",
     "text": [
      "[1, 2, 2, 3, 5, 6]\n"
     ]
    }
   ],
   "source": [
    "nums1 = [1, 2, 3, 0, 0, 0 ] \n",
    "nums2 = [2, 5, 6 ] \n",
    "m = 3 \n",
    "n = 3 \n",
    "nums1 = nums1[:m] + nums2\n",
    "nums1.sort() \n",
    "print( nums1 ) "
   ]
  },
  {
   "cell_type": "code",
   "execution_count": null,
   "id": "86c16a55-a148-4147-9c6c-4f967d2f7c92",
   "metadata": {},
   "outputs": [],
   "source": []
  }
 ],
 "metadata": {
  "kernelspec": {
   "display_name": "ops_env",
   "language": "python",
   "name": "ops_env"
  },
  "language_info": {
   "codemirror_mode": {
    "name": "ipython",
    "version": 3
   },
   "file_extension": ".py",
   "mimetype": "text/x-python",
   "name": "python",
   "nbconvert_exporter": "python",
   "pygments_lexer": "ipython3",
   "version": "3.11.9"
  }
 },
 "nbformat": 4,
 "nbformat_minor": 5
}
