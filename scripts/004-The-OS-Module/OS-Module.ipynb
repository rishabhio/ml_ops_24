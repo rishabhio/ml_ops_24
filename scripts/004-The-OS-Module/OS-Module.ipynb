{
 "cells": [
  {
   "cell_type": "markdown",
   "id": "8b073e56-fd20-4deb-8b87-805233ed8fb4",
   "metadata": {},
   "source": [
    "# Operating System Operations "
   ]
  },
  {
   "cell_type": "code",
   "execution_count": 1,
   "id": "87e0bbef-1e65-4cda-a62a-f5b2b3400560",
   "metadata": {},
   "outputs": [],
   "source": [
    "import os "
   ]
  },
  {
   "cell_type": "code",
   "execution_count": 2,
   "id": "c5f77ab0-e1e8-4791-b24d-8cc52b02d896",
   "metadata": {},
   "outputs": [],
   "source": [
    "# dir( os ) "
   ]
  },
  {
   "cell_type": "code",
   "execution_count": 7,
   "id": "df63db61-5939-460b-90be-f3f80b00232d",
   "metadata": {},
   "outputs": [
    {
     "name": "stdout",
     "output_type": "stream",
     "text": [
      "Current working directory: /Users/fourofour/Professional/Jio-2024/JIO-MLOPS-24/ML-OPS/004-The-OS-Module\n"
     ]
    }
   ],
   "source": [
    "# Get the current working directory\n",
    "print(\"Current working directory:\", os.getcwd())\n"
   ]
  },
  {
   "cell_type": "code",
   "execution_count": 3,
   "id": "9076cac7-d070-44bd-994b-72a583bb2843",
   "metadata": {},
   "outputs": [
    {
     "name": "stdout",
     "output_type": "stream",
     "text": [
      "Files and directories in current directory: ['OS-Module.ipynb', 'ml_content_3', '.ipynb_checkpoints', 'random.txt']\n"
     ]
    }
   ],
   "source": [
    "# List files and directories in a directory\n",
    "print(\"Files and directories in current directory:\", os.listdir())\n"
   ]
  },
  {
   "cell_type": "code",
   "execution_count": 5,
   "id": "79ba23ab-8a93-4e5b-bb2a-8007224952c3",
   "metadata": {},
   "outputs": [
    {
     "data": {
      "text/plain": [
       "['OS-Module.ipynb',\n",
       " 'ml_content_45',\n",
       " 'ml_content_3',\n",
       " '.ipynb_checkpoints',\n",
       " 'random.txt']"
      ]
     },
     "execution_count": 5,
     "metadata": {},
     "output_type": "execute_result"
    }
   ],
   "source": [
    "# Create a directory\n",
    "os.mkdir(\"ml_content_45\")\n",
    "os.listdir()"
   ]
  },
  {
   "cell_type": "code",
   "execution_count": 6,
   "id": "389d776c-002d-490c-b426-5c92373261c6",
   "metadata": {},
   "outputs": [],
   "source": [
    "# Rename a file or directory\n",
    "os.rename(\"ml_content_45\", \"ml_content_55\")\n"
   ]
  },
  {
   "cell_type": "code",
   "execution_count": 7,
   "id": "a427dcd9-aa1f-45c0-a5c9-06ecfe0ef2aa",
   "metadata": {},
   "outputs": [],
   "source": [
    "# Remove a file ( create the file before this demo ) \n",
    "os.remove(\"random.txt\")\n"
   ]
  },
  {
   "cell_type": "code",
   "execution_count": 8,
   "id": "a2af1af7-179c-40ec-b176-d269fd4a6ac7",
   "metadata": {},
   "outputs": [],
   "source": [
    "# Remove an empty directory\n",
    "os.rmdir(\"ml_content_55\")\n"
   ]
  },
  {
   "cell_type": "markdown",
   "id": "dc2e0e85-6e2f-4c1b-a86f-40734777d712",
   "metadata": {},
   "source": [
    "# Path Operations "
   ]
  },
  {
   "cell_type": "code",
   "execution_count": 18,
   "id": "4f3536d1-a702-4e70-88e9-ea4b44ace181",
   "metadata": {},
   "outputs": [
    {
     "name": "stdout",
     "output_type": "stream",
     "text": [
      "Joined path: path/to/file.txt\n"
     ]
    }
   ],
   "source": [
    "# Join paths\n",
    "path = os.path.join(\"path\", \"to\", \"file.txt\")\n",
    "print(\"Joined path:\", path)\n"
   ]
  },
  {
   "cell_type": "code",
   "execution_count": 19,
   "id": "ffd35791-0edf-4b3f-ae0d-277b378c67d6",
   "metadata": {},
   "outputs": [
    {
     "name": "stdout",
     "output_type": "stream",
     "text": [
      "Basename: file.txt\n"
     ]
    }
   ],
   "source": [
    "# Get the basename of a path\n",
    "print(\"Basename:\", os.path.basename(path))\n"
   ]
  },
  {
   "cell_type": "code",
   "execution_count": 20,
   "id": "7dd8bce0-4504-4f1f-bb66-4abfc9c6eb28",
   "metadata": {},
   "outputs": [
    {
     "name": "stdout",
     "output_type": "stream",
     "text": [
      "Directory name: path/to\n"
     ]
    }
   ],
   "source": [
    "# Get the directory name of a path\n",
    "print(\"Directory name:\", os.path.dirname(path))\n"
   ]
  },
  {
   "cell_type": "code",
   "execution_count": 21,
   "id": "57ed3ce4-5fac-4965-8bee-1ff540b88285",
   "metadata": {},
   "outputs": [
    {
     "name": "stdout",
     "output_type": "stream",
     "text": [
      "Path exists: False\n"
     ]
    }
   ],
   "source": [
    "# Check if a path exists\n",
    "print(\"Path exists:\", os.path.exists(path))\n"
   ]
  },
  {
   "cell_type": "code",
   "execution_count": 23,
   "id": "dbc2ae3a-d21f-4fd9-87bb-c18c24bc63a2",
   "metadata": {},
   "outputs": [
    {
     "name": "stdout",
     "output_type": "stream",
     "text": [
      "File size (bytes): 37\n"
     ]
    }
   ],
   "source": [
    "# Get the size of a file\n",
    "print(\"File size (bytes):\", os.path.getsize('random.txt'))\n"
   ]
  },
  {
   "cell_type": "code",
   "execution_count": 24,
   "id": "6ff4507e-f0b8-4cfb-9bea-8229c9b83365",
   "metadata": {},
   "outputs": [
    {
     "name": "stdout",
     "output_type": "stream",
     "text": [
      "Directory: path/to\n",
      "File name: file.txt\n"
     ]
    }
   ],
   "source": [
    "# Split a path into directory and file name\n",
    "dir_name, file_name = os.path.split(path)\n",
    "print(\"Directory:\", dir_name)\n",
    "print(\"File name:\", file_name)\n"
   ]
  },
  {
   "cell_type": "markdown",
   "id": "a209073b-2f0a-45eb-ae3d-cac0cc0d454c",
   "metadata": {},
   "source": [
    "# Environment Variables "
   ]
  },
  {
   "cell_type": "code",
   "execution_count": 25,
   "id": "d2c09076-50c8-4e3f-9b42-6d6d805b6a6a",
   "metadata": {},
   "outputs": [
    {
     "name": "stdout",
     "output_type": "stream",
     "text": [
      "PATH environment variable: /Users/fourofour/Professional/Jio-2024/env_mlops/bin:/Users/fourofour/anaconda3/bin:/Library/Frameworks/Python.framework/Versions/3.12/bin:/Users/fourofour/.local/share/solana/install/active_release/bin:/opt/homebrew/bin:/opt/homebrew/sbin:/Library/Frameworks/Python.framework/Versions/3.11/bin:/usr/local/bin:/System/Cryptexes/App/usr/bin:/usr/bin:/bin:/usr/sbin:/sbin:/var/run/com.apple.security.cryptexd/codex.system/bootstrap/usr/local/bin:/var/run/com.apple.security.cryptexd/codex.system/bootstrap/usr/bin:/var/run/com.apple.security.cryptexd/codex.system/bootstrap/usr/appleinternal/bin:/Library/Apple/usr/bin:/Users/fourofour/anaconda3/bin:/Library/Frameworks/Python.framework/Versions/3.12/bin:/Users/fourofour/.local/share/solana/install/active_release/bin:/opt/homebrew/bin:/opt/homebrew/sbin:/Library/Frameworks/Python.framework/Versions/3.11/bin:/Users/fourofour/.cargo/bin\n"
     ]
    }
   ],
   "source": [
    "# Get environment variables\n",
    "print(\"PATH environment variable:\", os.getenv(\"PATH\"))\n"
   ]
  },
  {
   "cell_type": "code",
   "execution_count": 9,
   "id": "46c7ef55-edd1-4eb7-a362-c9cb3487537d",
   "metadata": {},
   "outputs": [],
   "source": [
    "# Set environment variables\n",
    "os.environ[\"CUSTOM_VAR\"] = \"custom_value\"\n"
   ]
  },
  {
   "cell_type": "code",
   "execution_count": 10,
   "id": "61089558-6d58-4ef3-980a-a149c0bc3f35",
   "metadata": {},
   "outputs": [
    {
     "name": "stdout",
     "output_type": "stream",
     "text": [
      "CUSTOM_VAR is set: True\n"
     ]
    }
   ],
   "source": [
    "# Check if a variable is set\n",
    "print(\"CUSTOM_VAR is set:\", \"CUSTOM_VAR\" in os.environ)\n"
   ]
  },
  {
   "cell_type": "code",
   "execution_count": 30,
   "id": "0ebfc874-3104-4a83-a726-914419f0568e",
   "metadata": {},
   "outputs": [
    {
     "data": {
      "text/plain": [
       "'custom_value'"
      ]
     },
     "execution_count": 30,
     "metadata": {},
     "output_type": "execute_result"
    }
   ],
   "source": [
    "# Remove an environment variable\n",
    "os.environ.pop(\"CUSTOM_VAR\")\n"
   ]
  },
  {
   "cell_type": "markdown",
   "id": "cfd49713-0c88-4b51-88de-d9a2da931e6e",
   "metadata": {},
   "source": [
    "# Miscellaneous "
   ]
  },
  {
   "cell_type": "code",
   "execution_count": 31,
   "id": "3e0d9798-b471-4276-89c6-6fd09dd028b9",
   "metadata": {},
   "outputs": [
    {
     "name": "stdout",
     "output_type": "stream",
     "text": [
      "total 40\n",
      "-rw-r--r--@ 1 fourofour  staff  13895 Apr 17 20:20 OS-Module.ipynb\n",
      "drwxr-xr-x@ 2 fourofour  staff     64 Apr 17 20:15 \u001b[34mml_content_3\u001b[m\u001b[m\n",
      "-rw-r--r--@ 1 fourofour  staff     37 Apr 17 20:19 random.txt\n"
     ]
    },
    {
     "data": {
      "text/plain": [
       "0"
      ]
     },
     "execution_count": 31,
     "metadata": {},
     "output_type": "execute_result"
    }
   ],
   "source": [
    "# Execute a command in the shell\n",
    "os.system(\"ls -l\")\n"
   ]
  },
  {
   "cell_type": "code",
   "execution_count": 32,
   "id": "8a73f3bf-b111-4924-a54d-f453ae732570",
   "metadata": {},
   "outputs": [
    {
     "name": "stdout",
     "output_type": "stream",
     "text": [
      "Operating system: posix\n",
      "System platform: posix.uname_result(sysname='Darwin', nodename='fourofour.local', release='23.1.0', version='Darwin Kernel Version 23.1.0: Mon Oct  9 21:27:24 PDT 2023; root:xnu-10002.41.9~6/RELEASE_ARM64_T6000', machine='arm64')\n"
     ]
    }
   ],
   "source": [
    "# Get information about the operating system\n",
    "print(\"Operating system:\", os.name)\n",
    "print(\"System platform:\", os.uname())\n"
   ]
  },
  {
   "cell_type": "code",
   "execution_count": 33,
   "id": "3a52df26-280c-4dc2-9c0b-1595b7a9fdb1",
   "metadata": {},
   "outputs": [
    {
     "name": "stdout",
     "output_type": "stream",
     "text": [
      "Effective group id: 20\n",
      "Effective user id: 501\n"
     ]
    }
   ],
   "source": [
    "# Get the effective group id and user id\n",
    "print(\"Effective group id:\", os.getegid())\n",
    "print(\"Effective user id:\", os.geteuid())\n"
   ]
  },
  {
   "cell_type": "code",
   "execution_count": null,
   "id": "93c62075-98cb-4d7f-b475-4c3c2f399d5b",
   "metadata": {},
   "outputs": [],
   "source": []
  }
 ],
 "metadata": {
  "kernelspec": {
   "display_name": "Python 3 (ipykernel)",
   "language": "python",
   "name": "python3"
  },
  "language_info": {
   "codemirror_mode": {
    "name": "ipython",
    "version": 3
   },
   "file_extension": ".py",
   "mimetype": "text/x-python",
   "name": "python",
   "nbconvert_exporter": "python",
   "pygments_lexer": "ipython3",
   "version": "3.11.9"
  }
 },
 "nbformat": 4,
 "nbformat_minor": 5
}
