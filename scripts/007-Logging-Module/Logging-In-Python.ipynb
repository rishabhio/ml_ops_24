{
 "cells": [
  {
   "cell_type": "markdown",
   "id": "9d5f661f-314f-4aa8-a1c5-dd50f6dd95dd",
   "metadata": {},
   "source": [
    "# The Logging Module."
   ]
  },
  {
   "cell_type": "code",
   "execution_count": 1,
   "id": "29296f07-06cb-459e-a492-8883d18d5994",
   "metadata": {},
   "outputs": [
    {
     "name": "stderr",
     "output_type": "stream",
     "text": [
      "2024-04-18 05:37:56,982 - DEBUG - This is a debug message\n",
      "2024-04-18 05:37:56,985 - INFO - This is an info message\n",
      "2024-04-18 05:37:56,987 - WARNING - This is a warning message\n",
      "2024-04-18 05:37:56,990 - ERROR - This is an error message\n",
      "2024-04-18 05:37:56,991 - CRITICAL - This is a critical message\n"
     ]
    }
   ],
   "source": [
    "import logging\n",
    "\n",
    "logging.basicConfig(level=logging.DEBUG, format='%(asctime)s - %(levelname)s - %(message)s')\n",
    "\n",
    "logging.debug('This is a debug message')\n",
    "logging.info('This is an info message')\n",
    "logging.warning('This is a warning message')\n",
    "logging.error('This is an error message')\n",
    "logging.critical('This is a critical message')\n"
   ]
  },
  {
   "cell_type": "code",
   "execution_count": 2,
   "id": "b61f40e9-15b1-4160-af69-91d5b6ea98dc",
   "metadata": {},
   "outputs": [],
   "source": [
    "import logging\n",
    "\n",
    "logger = logging.getLogger('my_logger')\n",
    "logger.setLevel(logging.DEBUG)\n"
   ]
  },
  {
   "cell_type": "code",
   "execution_count": 3,
   "id": "0b8ae4e5-a3f6-47c1-96d4-19a29432b7fc",
   "metadata": {},
   "outputs": [],
   "source": [
    "file_handler = logging.FileHandler('my_log.log')\n",
    "file_handler.setLevel(logging.DEBUG)"
   ]
  },
  {
   "cell_type": "code",
   "execution_count": 4,
   "id": "e3423f9f-a451-4ab9-8176-bcda959866fe",
   "metadata": {},
   "outputs": [],
   "source": [
    "formatter = logging.Formatter('%(asctime)s - %(levelname)s - %(message)s')\n",
    "file_handler.setFormatter(formatter)"
   ]
  },
  {
   "cell_type": "code",
   "execution_count": 5,
   "id": "157d4d39-7109-4c32-a945-bda465556abe",
   "metadata": {},
   "outputs": [
    {
     "name": "stderr",
     "output_type": "stream",
     "text": [
      "2024-04-18 05:40:03,052 - DEBUG - This is a debug message\n"
     ]
    }
   ],
   "source": [
    "logger.addHandler(file_handler)\n",
    "logger.debug('This is a debug message')"
   ]
  },
  {
   "cell_type": "code",
   "execution_count": null,
   "id": "f0b095fc-84c8-45fb-ae45-05b1804a557c",
   "metadata": {},
   "outputs": [],
   "source": []
  }
 ],
 "metadata": {
  "kernelspec": {
   "display_name": "Python 3 (ipykernel)",
   "language": "python",
   "name": "python3"
  },
  "language_info": {
   "codemirror_mode": {
    "name": "ipython",
    "version": 3
   },
   "file_extension": ".py",
   "mimetype": "text/x-python",
   "name": "python",
   "nbconvert_exporter": "python",
   "pygments_lexer": "ipython3",
   "version": "3.11.9"
  }
 },
 "nbformat": 4,
 "nbformat_minor": 5
}
