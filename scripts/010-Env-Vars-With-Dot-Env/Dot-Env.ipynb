{
 "cells": [
  {
   "cell_type": "code",
   "execution_count": 1,
   "id": "9ea585dd-7f66-4c11-942b-1be3e3b30539",
   "metadata": {},
   "outputs": [
    {
     "name": "stdout",
     "output_type": "stream",
     "text": [
      "/Users/fourofour/Professional/Jio-2024/JIO-MLOPS-24/ML-OPS\n"
     ]
    }
   ],
   "source": [
    "! pwd"
   ]
  },
  {
   "cell_type": "code",
   "execution_count": 2,
   "id": "8fd986bd-1b42-4ded-911d-2ffe89cbadcb",
   "metadata": {},
   "outputs": [],
   "source": [
    "from dotenv import load_dotenv"
   ]
  },
  {
   "cell_type": "code",
   "execution_count": 3,
   "id": "1b2f15bc-56a8-430f-bc25-c243b9e39666",
   "metadata": {},
   "outputs": [],
   "source": [
    "import os "
   ]
  },
  {
   "cell_type": "code",
   "execution_count": 4,
   "id": "526ff5a2-db48-4049-ad95-1ec897aaeb41",
   "metadata": {},
   "outputs": [
    {
     "data": {
      "text/plain": [
       "False"
      ]
     },
     "execution_count": 4,
     "metadata": {},
     "output_type": "execute_result"
    }
   ],
   "source": [
    "load_dotenv() "
   ]
  },
  {
   "cell_type": "code",
   "execution_count": 6,
   "id": "1c6a9637-7216-4e17-9ced-6b081a3632a3",
   "metadata": {},
   "outputs": [],
   "source": [
    "one = os.environ.get('ENV_VAR_ONE') "
   ]
  },
  {
   "cell_type": "code",
   "execution_count": 8,
   "id": "8b6faf4d-2e8e-4026-8143-3574dce5d1a9",
   "metadata": {},
   "outputs": [
    {
     "data": {
      "text/plain": [
       "True"
      ]
     },
     "execution_count": 8,
     "metadata": {},
     "output_type": "execute_result"
    }
   ],
   "source": [
    "one is None"
   ]
  },
  {
   "cell_type": "code",
   "execution_count": null,
   "id": "2bd6d6db-619b-4f3e-ae88-db0a9733b47c",
   "metadata": {},
   "outputs": [],
   "source": []
  }
 ],
 "metadata": {
  "kernelspec": {
   "display_name": "ops_env",
   "language": "python",
   "name": "ops_env"
  },
  "language_info": {
   "codemirror_mode": {
    "name": "ipython",
    "version": 3
   },
   "file_extension": ".py",
   "mimetype": "text/x-python",
   "name": "python",
   "nbconvert_exporter": "python",
   "pygments_lexer": "ipython3",
   "version": "3.11.9"
  }
 },
 "nbformat": 4,
 "nbformat_minor": 5
}
