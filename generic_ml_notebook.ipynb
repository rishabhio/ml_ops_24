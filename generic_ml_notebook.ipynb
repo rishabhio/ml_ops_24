{
 "cells": [
  {
   "cell_type": "code",
   "execution_count": 5,
   "id": "3681c4c3-1fe7-46ba-bcfe-ade17ad7ae79",
   "metadata": {},
   "outputs": [],
   "source": [
    "# Imports \n",
    "\n",
    "# import numpy as np \n",
    "# import pandas as pd \n",
    "\n",
    "# Use this notebook to replace the relevant sections with the code from your\n",
    "# own project. "
   ]
  },
  {
   "cell_type": "markdown",
   "id": "47225a80-c8a9-4c08-8d24-f1623bcd32a3",
   "metadata": {},
   "source": [
    "# Loading Data\n",
    "\n",
    "- Sources of Data could be:\n",
    "\n",
    "```\n",
    "1. FileSystem \n",
    "2. DataBase / DataLake \n",
    "3. Network API calls etc. \n",
    "\n",
    "```\n",
    "\n",
    "- Type of data may also vary project to project.\n",
    "\n",
    "e.g. Numeric, Textual, Images etc. "
   ]
  },
  {
   "cell_type": "code",
   "execution_count": 6,
   "id": "a69798df-669b-4af9-a834-208dff453de0",
   "metadata": {},
   "outputs": [],
   "source": [
    "# Load data Module \n",
    "\n",
    "\n",
    "def load_data():\n",
    "    print(\"Functionality to Load Data\")  "
   ]
  },
  {
   "cell_type": "code",
   "execution_count": 7,
   "id": "9c4c7299-fca8-4802-b890-671bc8bb5c8a",
   "metadata": {},
   "outputs": [],
   "source": [
    "# Exploratory Data Analysis Module \n",
    "# Group Task - 1: Explore Lux \n",
    "# Tools: Pandas / Matplotlib \n",
    "\n",
    "def eda():\n",
    "    print(\"Add exploratory data analysis related commands here\") \n"
   ]
  },
  {
   "cell_type": "code",
   "execution_count": 8,
   "id": "12a103a9-cffb-47af-b4c0-0b36a01672eb",
   "metadata": {},
   "outputs": [],
   "source": [
    "# Feature Engineering Module \n",
    "\n",
    "def feature_engineering():\n",
    "    '''\n",
    "        - Outlier Treatment \n",
    "        - Missing Value Imputation \n",
    "        - Encoding Categorical Attributes \n",
    "        - Scaling \n",
    "        - Handling Class Imbalance \n",
    "        - Dimensionality Reduction \n",
    "    '''\n",
    "    print(\"Add commands related to feature engineering here\") \n",
    "    \n"
   ]
  },
  {
   "cell_type": "code",
   "execution_count": 9,
   "id": "a6313fee-4e41-4aac-b157-c3d4de0aa26f",
   "metadata": {},
   "outputs": [],
   "source": [
    "# Model Training Module \n",
    "def train_model():\n",
    "    '''\n",
    "        Perform the Model Training in this cell. \n",
    "        LinearRegression\n",
    "        LogisticRegression\n",
    "        Clustering\n",
    "        AnomalyDetection \n",
    "    '''\n",
    "    print(\"Train the Model\") "
   ]
  },
  {
   "cell_type": "code",
   "execution_count": 10,
   "id": "950dd393-b020-4cb8-a596-b4429444167f",
   "metadata": {},
   "outputs": [],
   "source": [
    "# Hyper Parameter Optimization \n",
    "def parameter_optimization():\n",
    "    '''\n",
    "        Perform the hyper parameter tuning. \n",
    "        \n",
    "    '''"
   ]
  },
  {
   "cell_type": "code",
   "execution_count": 13,
   "id": "8c77ff38-57c3-4aec-a985-af7aaa8802aa",
   "metadata": {},
   "outputs": [
    {
     "name": "stdout",
     "output_type": "stream",
     "text": [
      "Functionality to Load Data\n",
      "Add exploratory data analysis related commands here\n",
      "Add commands related to feature engineering here\n",
      "Train the Model\n"
     ]
    }
   ],
   "source": [
    "# Combining the steps together. \n",
    "\n",
    "def build_model():\n",
    "    '''\n",
    "        Build the model following all the previous steps. \n",
    "    '''\n",
    "    load_data() \n",
    "    eda()\n",
    "    feature_engineering() \n",
    "    train_model() \n",
    "    \n",
    "build_model() "
   ]
  },
  {
   "cell_type": "code",
   "execution_count": 14,
   "id": "7edf3f03-9f09-479a-8ea2-fb32bcd6f329",
   "metadata": {},
   "outputs": [
    {
     "data": {
      "text/plain": [
       "'Predicted Value'"
      ]
     },
     "execution_count": 14,
     "metadata": {},
     "output_type": "execute_result"
    }
   ],
   "source": [
    "# Make predictions \n",
    "\n",
    "def make_prediction():\n",
    "    '''\n",
    "        This function can take in  the model and use it to make \n",
    "        predictions. \n",
    "    '''\n",
    "    return \"Predicted Value\"  \n",
    "    \n",
    "make_prediction() "
   ]
  },
  {
   "cell_type": "markdown",
   "id": "81f3660f-31e0-4288-9a65-19d2e73e9ea8",
   "metadata": {},
   "source": [
    "# Group Tasks \n",
    "\n",
    "Create jupyter notebook templates for the following tasks: \n",
    "\n",
    "1. Exploratory Data Analysis\n",
    "2. Feature Engineering\n",
    "3. Missing Value Imputation\n",
    "4. Machine Learning Modeling\n",
    "5. Computer Vision with Images ( Any specific use case )\n"
   ]
  },
  {
   "cell_type": "code",
   "execution_count": null,
   "id": "a4066643-c16a-4612-9e23-feedc42f5e18",
   "metadata": {},
   "outputs": [],
   "source": []
  }
 ],
 "metadata": {
  "kernelspec": {
   "display_name": "ops_env",
   "language": "python",
   "name": "ops_env"
  },
  "language_info": {
   "codemirror_mode": {
    "name": "ipython",
    "version": 3
   },
   "file_extension": ".py",
   "mimetype": "text/x-python",
   "name": "python",
   "nbconvert_exporter": "python",
   "pygments_lexer": "ipython3",
   "version": "3.11.9"
  }
 },
 "nbformat": 4,
 "nbformat_minor": 5
}
